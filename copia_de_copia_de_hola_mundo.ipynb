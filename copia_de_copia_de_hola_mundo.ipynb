{
  "nbformat": 4,
  "nbformat_minor": 0,
  "metadata": {
    "colab": {
      "provenance": [],
      "include_colab_link": true
    },
    "kernelspec": {
      "name": "python3",
      "display_name": "Python 3"
    },
    "language_info": {
      "name": "python"
    }
  },
  "cells": [
    {
      "cell_type": "markdown",
      "metadata": {
        "id": "view-in-github",
        "colab_type": "text"
      },
      "source": [
        "<a href=\"https://colab.research.google.com/github/sandramilenas/py/blob/main/copia_de_copia_de_hola_mundo.ipynb\" target=\"_parent\"><img src=\"https://colab.research.google.com/assets/colab-badge.svg\" alt=\"Open In Colab\"/></a>"
      ]
    },
    {
      "cell_type": "markdown",
      "metadata": {
        "id": "7sFS0jBEDTIc"
      },
      "source": [
        "# Hola mundo\n",
        "\n",
        "\n",
        "Sientete libre de modificar el código para probar las *salidas*"
      ]
    },
    {
      "cell_type": "markdown",
      "metadata": {
        "id": "zBL0G9fkyz9K"
      },
      "source": [
        "## print\n",
        "\n",
        " Este comando y sus alternativas de uso son importantes para cuando escribamos código grande y querramos ver el estado del código."
      ]
    },
    {
      "cell_type": "code",
      "metadata": {
        "id": "s4CWoALS_d6q",
        "colab": {
          "base_uri": "https://localhost:8080/"
        },
        "outputId": "599d5df2-6002-4814-c99b-df3c538ee11c"
      },
      "source": [
        "print(\"Hola mundo\")"
      ],
      "execution_count": null,
      "outputs": [
        {
          "output_type": "stream",
          "name": "stdout",
          "text": [
            "Hola mundo\n"
          ]
        }
      ]
    },
    {
      "cell_type": "code",
      "metadata": {
        "id": "01mg2hORzFYh",
        "colab": {
          "base_uri": "https://localhost:8080/"
        },
        "outputId": "7760e620-d6ee-42be-8bb8-8aeede133ae9"
      },
      "source": [
        "nombre =\"sandra\"\n",
        "print('Hola, ' + nombre + '! Cómo estas?')"
      ],
      "execution_count": null,
      "outputs": [
        {
          "output_type": "stream",
          "name": "stdout",
          "text": [
            "Hola, sandra! Cómo estas?\n"
          ]
        }
      ]
    },
    {
      "cell_type": "code",
      "metadata": {
        "id": "JuBPejJQ2G9o",
        "colab": {
          "base_uri": "https://localhost:8080/"
        },
        "outputId": "7db25fb7-5e42-4b2d-969f-9dedb894a117"
      },
      "source": [
        "nombre = \"sandra\"\n",
        "print('Hola, ', nombre, '! Cómo estas?')"
      ],
      "execution_count": null,
      "outputs": [
        {
          "output_type": "stream",
          "name": "stdout",
          "text": [
            "Hola,  sandra ! Cómo estas?\n"
          ]
        }
      ]
    },
    {
      "cell_type": "code",
      "metadata": {
        "id": "QCRMj7VG1Cdg",
        "colab": {
          "base_uri": "https://localhost:8080/"
        },
        "outputId": "7039bb31-c54b-4e73-b95b-43cab2c44e87"
      },
      "source": [
        "nombre = \"sandra\"\n",
        "print(f'Hola, {nombre}! Cómo estas?')"
      ],
      "execution_count": null,
      "outputs": [
        {
          "output_type": "stream",
          "name": "stdout",
          "text": [
            "Hola, sandra! Cómo estas?\n"
          ]
        }
      ]
    },
    {
      "cell_type": "markdown",
      "metadata": {
        "id": "HryGo1xx3d8m"
      },
      "source": [
        "En algunos escenarios queremos ahorrarnos el escribir mucho texto para imrimir textos en diferentes lineas"
      ]
    },
    {
      "cell_type": "code",
      "metadata": {
        "id": "Dc_lrH1l3joI"
      },
      "source": [
        "print(\"linea1\")\n",
        "print(\"linea2\")\n",
        "print(\"linea3\")"
      ],
      "execution_count": null,
      "outputs": []
    },
    {
      "cell_type": "markdown",
      "metadata": {
        "id": "AkjfDMz-3znt"
      },
      "source": [
        "podemos usar dentro del texto a imprimir `\"\\n\"` que en cuanto print lo encuentra dentro del texto, se encargade dar un salto de linea"
      ]
    },
    {
      "cell_type": "code",
      "metadata": {
        "id": "JlQpDT8z3Lxh",
        "colab": {
          "base_uri": "https://localhost:8080/"
        },
        "outputId": "bde2d0fd-204f-42c9-eb31-6ed82b6175fe"
      },
      "source": [
        "print('linea1\\nlinea2\\nlinea3')"
      ],
      "execution_count": null,
      "outputs": [
        {
          "output_type": "stream",
          "name": "stdout",
          "text": [
            "linea1\n",
            "linea2\n",
            "linea3\n"
          ]
        }
      ]
    },
    {
      "cell_type": "markdown",
      "metadata": {
        "id": "9yvqUHeI1TFE"
      },
      "source": [
        "## Separadores\n",
        "al llamar al comando print podemos especificar con sep como queremos separar lo que mandemos al comando print\n",
        "\n",
        "\n",
        "```\n",
        "sep = \"cualquier simbolo o texto\"\n",
        "```\n",
        "\n"
      ]
    },
    {
      "cell_type": "code",
      "metadata": {
        "id": "NPMrLk8L1RbA"
      },
      "source": [
        "print(\"hola\", \"mundo\", sep='')"
      ],
      "execution_count": null,
      "outputs": []
    },
    {
      "cell_type": "code",
      "metadata": {
        "id": "ab3pVuHm1bGk"
      },
      "source": [
        "print(\"hola\", \"mundo\", sep='\\n')"
      ],
      "execution_count": null,
      "outputs": []
    },
    {
      "cell_type": "code",
      "metadata": {
        "id": "GgdRtg5b1bIi"
      },
      "source": [
        "print(\"hola\", \"mundo\", sep='/')"
      ],
      "execution_count": null,
      "outputs": []
    },
    {
      "cell_type": "code",
      "metadata": {
        "id": "gV8yfqq71bKv"
      },
      "source": [
        "print('home', 'user', 'documents', sep='>>>')"
      ],
      "execution_count": null,
      "outputs": []
    },
    {
      "cell_type": "code",
      "metadata": {
        "id": "o74U5fOs1tqf"
      },
      "source": [
        "print(3, 'Python101', 'Algo', sep='#@$%#$% ')"
      ],
      "execution_count": null,
      "outputs": []
    },
    {
      "cell_type": "markdown",
      "metadata": {
        "id": "Qbp7W82p1bUA"
      },
      "source": [
        "### Texto al final\n",
        "\n",
        "para imprimir al final del texto un texto adicional, podemos usar\n",
        "\n",
        "\n",
        "```\n",
        "end = \"cualquier simbolo o texto\"\n",
        "```\n",
        "\n",
        "por defecto cuando usamos print, al final del texto se imprime un salto de linea, con este parametro *end* podremos cambiarlo\n"
      ]
    },
    {
      "cell_type": "code",
      "metadata": {
        "id": "m9MFfLdA1nnF"
      },
      "source": [
        "print(\"linea1\", end=\"\\n\")\n",
        "print(\"linea2\")\n",
        "print(\"linea3\")"
      ],
      "execution_count": null,
      "outputs": []
    },
    {
      "cell_type": "code",
      "metadata": {
        "id": "g4eClXTW5n0Y"
      },
      "source": [
        "print(123, end='asdfasdf')\n",
        "print(\"linea2\", end=',')\n",
        "print(\"linea3\", end='.')"
      ],
      "execution_count": null,
      "outputs": []
    },
    {
      "cell_type": "markdown",
      "source": [
        "## Lectura\n",
        "\n",
        "Para poder leer texto introducido por teclado se usa la instrucción `input`"
      ],
      "metadata": {
        "id": "2oD21TvWG6hi"
      }
    },
    {
      "cell_type": "code",
      "metadata": {
        "id": "xDbgcOonu9Mw"
      },
      "source": [
        "var = input()"
      ],
      "execution_count": null,
      "outputs": []
    },
    {
      "cell_type": "markdown",
      "source": [
        "El valor almacenado será una cadena de texto"
      ],
      "metadata": {
        "id": "U4CQe3KCHJTL"
      }
    },
    {
      "cell_type": "markdown",
      "source": [
        "## Ejercicio\n",
        "\n",
        "Leer tu nombre por teclado e imprimir `Hola {tu nombre}`"
      ],
      "metadata": {
        "id": "Ak3fIZyoHVT3"
      }
    }
  ]
}